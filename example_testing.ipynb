{
 "cells": [
  {
   "cell_type": "markdown",
   "metadata": {},
   "source": [
    "# Example Experiment for the H2O Molecule in the 631G basis"
   ]
  },
  {
   "cell_type": "code",
   "execution_count": 1,
   "metadata": {},
   "outputs": [],
   "source": [
    "import main_fci_rbm"
   ]
  },
  {
   "cell_type": "code",
   "execution_count": 4,
   "metadata": {},
   "outputs": [
    {
     "name": "stdout",
     "output_type": "stream",
     "text": [
      "Current working directory: /home/ivan/Descargas/Python_Codes_DFT/paper_code_implementation/FCI_RBM\n",
      "The selected ezfio_path is : /home/ivan/Descargas/Python_Codes_DFT/paper_code_implementation/FCI_RBM/ex/h2o_631g.ezfio\n",
      "Number of cores available: 12\n",
      "**********************************************************\n",
      "************ iteration: 0 ***************************\n",
      "**********************************************************\n",
      "Resetting ezfio file finished\n",
      "SCF started....\n",
      "SCF finished\n",
      "Computed Ground Energy: -75.98383110395982\n",
      "CISD started....\n",
      "CISD finished\n",
      "Computed Ground Energy: -76.11397644859689\n",
      "number of coefficients before pruning 679\n",
      "number of coefficients after pruning 602\n",
      "**********************************************************\n",
      "************ iteration: 1 ***************************\n",
      "**********************************************************\n",
      "number of coefficients before pruning 602\n",
      "number of coefficients after pruning 602\n",
      "number of determinants generated 1000 1003\n",
      "number of determinants generated 1000 1003\n",
      "number of determinants generated 1000 1003\n",
      "number of determinants generated 1000 1003\n",
      "number of determinants generated 1000 1003\n",
      "number of determinants generated 1000 1003\n",
      "1000er of determinants generated 1000number of determinants generated  1000number of determinants generated1000number of determinants generated 1003\n",
      "number of determinants generated 1003\n",
      "number of determinants generated number of determinants generated1003\n",
      " 1003\n",
      "number of determinants generated 1000 1003\n",
      "number of determinants generated 1000 1003\n",
      "number of determinants generated: 12036\n",
      "Number of determinants removed because they are repeated: 10041\n",
      "Number of determinants removed because they are in the training set: 0\n",
      "Final number of determinants to be added to the training set: 1925\n",
      "converting determinants to qp format and writing to files...\n",
      "Number of dets in QP to diagonalize: 2527\n",
      "Threshold used for davidson diagonalization: 1e-8\n",
      "max_diag_time: 1000\n",
      "Diagonalization started....\n",
      "Diagonalization process completed successfully.\n",
      "Computed Ground Energy: -76.11400393407715\n",
      "**********************************************************\n",
      "************ iteration: 2 ***************************\n",
      "**********************************************************\n",
      "number of coefficients before pruning 2527\n",
      "number of coefficients after pruning 687\n",
      "number of determinants generated 1000 1000 1000 1145\n",
      "number of determinants generated 1000 1000 1145\n",
      "number of determinants generatednumber of determinants generatednumber of determinants generated  10001000 1000 1000 1145\n",
      "number of determinants generated 1000 1145\n",
      "number of determinants generated 1000 1000 1145\n",
      "number of determinants generated 1145\n",
      "number of determinants generatednumber of determinants generated  11451145\n",
      "\n",
      "number of determinants generated 1145\n",
      "number of determinants generated 1145\n",
      "number of determinants generated 1145\n",
      "number of determinants generated 1145\n",
      "number of determinants generated: 13740\n",
      "Number of determinants removed because they are repeated: 9554\n",
      "Number of determinants removed because they are in the training set: 0\n",
      "Final number of determinants to be added to the training set: 2894\n",
      "converting determinants to qp format and writing to files...\n",
      "Number of dets in QP to diagonalize: 3581\n",
      "Threshold used for davidson diagonalization: 1e-8\n",
      "max_diag_time: 95.52966713905334\n",
      "Diagonalization started....\n",
      "Diagonalization process completed successfully.\n",
      "Computed Ground Energy: -76.11428098189519\n",
      "**********************************************************\n",
      "************ iteration: 3 ***************************\n",
      "**********************************************************\n",
      "number of coefficients before pruning 3581\n",
      "number of coefficients after pruning 1150\n",
      "number of determinants generated 1000 1000number of determinants generated 1000 number of determinants generated 1000 1000number of determinants generated 1000 1000 1000 1000 1000 1000 1916\n",
      "number of determinants generated 1916\n",
      "number of determinants generated 1916\n",
      "number of determinants generated 1916\n",
      "number of determinants generated 1916\n",
      "number of determinants generated 1916\n",
      "number of determinants generated 1916\n",
      "number of determinants generated 1916\n",
      "number of determinants generated 1916\n",
      "number of determinants generated 1916\n",
      "number of determinants generated 1916\n",
      "number of determinants generated 1916\n",
      "number of determinants generated: 22992\n",
      "Number of determinants removed because they are repeated: 14165\n",
      "Number of determinants removed because they are in the training set: 0\n",
      "Final number of determinants to be added to the training set: 6586\n",
      "converting determinants to qp format and writing to files...\n",
      "Number of dets in QP to diagonalize: 7736\n",
      "Threshold used for davidson diagonalization: 1e-8\n",
      "max_diag_time: 100.77909708023071\n",
      "Diagonalization started....\n",
      "Diagonalization process completed successfully.\n",
      "Computed Ground Energy: -76.11498845082292\n",
      "**********************************************************\n",
      "************ iteration: 4 ***************************\n",
      "**********************************************************\n",
      "number of coefficients before pruning 7736\n",
      "number of coefficients after pruning 2089\n",
      "number of determinants generated 1000 1000number of determinants generated  number of determinants generated1000 1000number of determinants generated number of determinants generated 1000number of determinants generated  10001000number of determinants generated 1000 1000 1000 2000 2000number of determinants generated  20002000number of determinants generated 2000 2000 number of determinants generated2000number of determinants generated  2000number of determinants generatednumber of determinants generated  20002000number of determinants generated 2000 3000 3000 3000 3000 3000 3000 3000 3000 3000 3481\n",
      "number of determinants generated 3000 3000 3000 3481\n",
      "number of determinants generated 3481\n",
      "number of determinants generated 3481\n",
      "number of determinants generated 3481\n",
      "number of determinants generated 3481\n",
      "number of determinants generated 3481\n",
      "number of determinants generated 3481\n",
      "number of determinants generated 3481\n",
      "number of determinants generated 3481\n",
      "number of determinants generated 3481\n",
      "number of determinants generated 3481\n",
      "number of determinants generated: 41772\n",
      "Number of determinants removed because they are repeated: 24717\n",
      "Number of determinants removed because they are in the training set: 0\n",
      "Final number of determinants to be added to the training set: 12446\n",
      "converting determinants to qp format and writing to files...\n",
      "Number of dets in QP to diagonalize: 14535\n",
      "Threshold used for davidson diagonalization: 1e-8\n",
      "max_diag_time: 133.3194601535797\n",
      "Diagonalization started....\n",
      "Diagonalization process completed successfully.\n",
      "Computed Ground Energy: -76.11650100885802\n",
      "**********************************************************\n",
      "************ iteration: 5 ***************************\n",
      "**********************************************************\n",
      "number of coefficients before pruning 14535\n",
      "number of coefficients after pruning 3624\n",
      "number of determinants generated 1000 1000 1000 1000number of determinants generated  1000 1000number of determinants generatednumber of determinants generated 1000 10001000number of determinants generated 1000 1000 2000number of determinants generated  20002000number of determinants generated 2000number of determinants generated  20002000number of determinants generatednumber of determinants generated  20002000number of determinants generated 2000 2000 number of determinants generated 20002000number of determinants generated 3000 3000 3000 3000 3000 3000 3000 number of determinants generated30003000 3000number of determinants generated  30003000number of determinants generated 4000 4000 4000 4000 4000number of determinants generated 4000number of determinants generated 4000number of determinants generated  4000 4000 4000 4000 5000 5000 5000 5000 5000 5000 5000 5000number of determinants generated5000number of determinants generated  50005000number of determinants generated 5000 6000 6000 6040\n",
      "number of determinants generated 6040\n",
      "number of determinants generated 6000 6000number of determinants generated  60406000\n",
      "number of determinants generated 6000 6040\n",
      "number of determinants generated 6040\n",
      "number of determinants generated 6040\n",
      "number of determinants generated 6000 6000 6040\n",
      " umber of determinants generated 6000 6000 6000number of determinants generated6040\n",
      "number of determinants generated 6040\n",
      "number of determinants generated 6040\n",
      "number of determinants generated 6040\n",
      "number of determinants generated 6000 6040\n",
      "number of determinants generated: 72480\n",
      "Number of determinants removed because they are repeated: 42018\n",
      "Number of determinants removed because they are in the training set: 0\n",
      "Final number of determinants to be added to the training set: 21102\n",
      "converting determinants to qp format and writing to files...\n",
      "Number of dets in QP to diagonalize: 24726\n",
      "Threshold used for davidson diagonalization: 1e-8\n",
      "max_diag_time: 204.70481872558594\n",
      "Diagonalization started....\n",
      "Diagonalization process completed successfully.\n",
      "Computed Ground Energy: -76.11901266035797\n",
      "**********************************************************\n",
      "************ iteration: 6 ***************************\n",
      "**********************************************************\n",
      "number of coefficients before pruning 24726\n",
      "number of coefficients after pruning 5525\n",
      "number of determinants generated 1000number of determinants generated 1000 number of determinants generated1000number of determinants generated  1000 1000number of determinants generated  10001000number of determinants generated 1000number of determinants generated1000 1000number of determinants generated  2000 2000number of determinants generated  20002000number of determinants generated 2000number of determinants generatednumber of determinants generated 20002000number of determinants generated 2000 2000 2000 2000 3000 3000 3000 number of determinants generated30003000 3000number of determinants generated  3000 3000 3000 3000number of determinants generated 3000number of determinants generated 4000 4000 4000 4000 4000number of determinants generated4000 4000 4000 4000 4000 4000 4000 5000 5000 number of determinants generated5000  5000 5000 5000 5000 5000 5000 5000 5000 6000 6000 6000 6000 number of determinants generated6000  6000 6000 6000 6000 6000 6000 7000 7000 7000 7000 7000 7000 7000 7000number of determinants generated  70007000number of determinants generated 7000 7000 8000 8000 8000 8000 8000 8000 8000 8000 number of determinants generated 8000 8000 8000 9000 9000 9000 9000 9208\n",
      "number of determinants generated 9000 9208\n",
      "number of determinants generated 9000 9000 9208\n",
      "number of determinants generated 9208\n",
      "number of determinants generated 9000 9208\n",
      "number of determinants generated 9208\n",
      "number of determinants generated 9000 9208\n",
      "number of determinants generated 9000number of determinants generated  90009000number of determinants generated 9208\n",
      "number of determinants generated 9208\n",
      "number of determinants generated 9208\n",
      "number of determinants generated 9208\n",
      "number of determinants generated 9208\n",
      "number of determinants generated: 110496\n",
      "Number of determinants removed because they are repeated: 67016\n",
      "Number of determinants removed because they are in the training set: 0\n",
      "Final number of determinants to be added to the training set: 27151\n",
      "converting determinants to qp format and writing to files...\n",
      "Number of dets in QP to diagonalize: 32676\n",
      "Threshold used for davidson diagonalization: 1e-8\n",
      "max_diag_time: 321.1812686920166\n",
      "Diagonalization started....\n",
      "Diagonalization process completed successfully.\n",
      "Computed Ground Energy: -76.12120968299219\n",
      "number of determinants in each iteration: [2527, 3581, 7736, 14535, 24726, 32676]\n",
      "time per iteration: [6.36864447593689, 6.718606472015381, 8.887964010238647, 13.646987915039062, 21.412084579467773, 33.46619009971619]\n",
      "Final energy approximation:  -76.12120968299219\n"
     ]
    },
    {
     "data": {
      "text/plain": [
       "<Figure size 1920x1440 with 0 Axes>"
      ]
     },
     "metadata": {},
     "output_type": "display_data"
    },
    {
     "data": {
      "text/plain": [
       "<Figure size 1800x600 with 0 Axes>"
      ]
     },
     "metadata": {},
     "output_type": "display_data"
    },
    {
     "data": {
      "text/plain": [
       "<Figure size 1920x1440 with 0 Axes>"
      ]
     },
     "metadata": {},
     "output_type": "display_data"
    },
    {
     "data": {
      "text/plain": [
       "<Figure size 1800x600 with 0 Axes>"
      ]
     },
     "metadata": {},
     "output_type": "display_data"
    },
    {
     "data": {
      "text/plain": [
       "<Figure size 1920x1440 with 0 Axes>"
      ]
     },
     "metadata": {},
     "output_type": "display_data"
    },
    {
     "data": {
      "text/plain": [
       "<Figure size 1800x600 with 0 Axes>"
      ]
     },
     "metadata": {},
     "output_type": "display_data"
    },
    {
     "data": {
      "text/plain": [
       "<Figure size 1920x1440 with 0 Axes>"
      ]
     },
     "metadata": {},
     "output_type": "display_data"
    },
    {
     "data": {
      "text/plain": [
       "<Figure size 1800x600 with 0 Axes>"
      ]
     },
     "metadata": {},
     "output_type": "display_data"
    },
    {
     "data": {
      "text/plain": [
       "<Figure size 1920x1440 with 0 Axes>"
      ]
     },
     "metadata": {},
     "output_type": "display_data"
    },
    {
     "data": {
      "text/plain": [
       "<Figure size 1800x600 with 0 Axes>"
      ]
     },
     "metadata": {},
     "output_type": "display_data"
    },
    {
     "data": {
      "text/plain": [
       "<Figure size 1920x1440 with 0 Axes>"
      ]
     },
     "metadata": {},
     "output_type": "display_data"
    }
   ],
   "source": [
    "#working directory\n",
    "working_directory='/home/ivan/Descargas/Python_Codes_DFT/paper_code_implementation/FCI_RBM'\n",
    "\n",
    "#path to the ezfio file\n",
    "ezfio_path = '/home/ivan/Descargas/Python_Codes_DFT/paper_code_implementation/FCI_RBM/ex/h2o_631g.ezfio'\n",
    "\n",
    "#ezfio_path = '/home/ivan/Descargas/QP_examples/h2o/h2o_631g.ezfio'\n",
    "\n",
    "\n",
    "#path to the Quantum Package Shell (installation folder/bin/qpsh)\n",
    "qpsh_path = '/home/ivan/Descargas/qp2/bin/qpsh'\n",
    "\n",
    "\n",
    "FCI_energy = -76.12237      #this is for reference on the plot\n",
    "\n",
    "ezfio_name=ezfio_path.split('/')[-1]\n",
    "\n",
    "\n",
    "# Set the hyperparameters for the run\n",
    "max_iterations = 7 \n",
    "num_epochs=3; batch_size=10; learning_rate=0.003; k=10;times_num_dets_gen=20;prune=1e-8;tol=1e-6;temp=1 ; times_max_diag_time=15\n",
    "\n",
    "#parameters Notes:\n",
    "#+++the the threshold for the davidson algorithm during the diagonalization of the hamiltonian (in QP), can be set in main_fci_rbm.py in the \n",
    "#   function \"main\"\n",
    "#+++In the function \"main\" in main_fci_rbm.py, can be set or selected the criteria or heuristics to stop the program. By default is used \n",
    "#   a threshold of tol=1e-6 for the energy difference between iterations.\n",
    "#+++times_max_diag_time is used to stop the program if the diagonalization of the hamiltonian takes more than (previous time * times_max_diag_time).\n",
    "#   #This is useful to avoid the program to run for too long if the diagonalization is taking too long, but can be not used by setting it to inf.\n",
    "\n",
    "\n",
    "# run the model\n",
    "ground_energy_list, number_of_det_list, times_per_iteration_list = main_fci_rbm.main(working_directory,ezfio_path, qpsh_path, max_iterations, \n",
    "    num_epochs, batch_size, learning_rate, k, times_num_dets_gen, prune, tol, temp, FCI_energy,times_max_diag_time)\n",
    "\n",
    "final_energy_approx = ground_energy_list[-1]\n",
    "\n",
    "print(\"Final energy approximation: \", final_energy_approx)\n",
    "\n",
    "\n",
    "#---------------------Important Note------------------------------------------------------------\n",
    "#Note: The figures like the convergence plot, time per iteration and the Molecular Frecuency plot are saved in the folder \"Graphs\" \n",
    "#in the same directory as this script.\n",
    "#The Output file with the run information is saved in /Output folder/ in the same directory as this script.\n",
    "\n",
    "\n"
   ]
  }
 ],
 "metadata": {
  "kernelspec": {
   "display_name": "Python 3",
   "language": "python",
   "name": "python3"
  },
  "language_info": {
   "codemirror_mode": {
    "name": "ipython",
    "version": 3
   },
   "file_extension": ".py",
   "mimetype": "text/x-python",
   "name": "python",
   "nbconvert_exporter": "python",
   "pygments_lexer": "ipython3",
   "version": "3.10.12"
  }
 },
 "nbformat": 4,
 "nbformat_minor": 2
}
